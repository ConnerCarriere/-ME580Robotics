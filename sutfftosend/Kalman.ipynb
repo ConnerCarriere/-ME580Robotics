{
 "cells": [
  {
   "cell_type": "code",
   "execution_count": 1,
   "metadata": {},
   "outputs": [
    {
     "name": "stderr",
     "output_type": "stream",
     "text": [
      "/usr/lib/python3/dist-packages/scipy/__init__.py:146: UserWarning: A NumPy version >=1.17.3 and <1.25.0 is required for this version of SciPy (detected version 1.26.1\n",
      "  warnings.warn(f\"A NumPy version >={np_minversion} and <{np_maxversion}\"\n"
     ]
    }
   ],
   "source": [
    "import numpy as np\n",
    "import math\n",
    "import csv\n",
    "from pprint import pprint\n",
    "import numpy as np\n",
    "import matplotlib.pyplot as plt\n",
    "import math\n",
    "import pandas as pd\n",
    "from scipy.spatial import distance"
   ]
  },
  {
   "cell_type": "code",
   "execution_count": 2,
   "metadata": {},
   "outputs": [],
   "source": [
    "# Read Lidar\n",
    "def CSV_Read_Lidar_data(data_path):\n",
    "    rows = []\n",
    "    with open(data_path, 'r') as file:\n",
    "        csvreader = csv.reader(file)\n",
    "        header = next(csvreader)\n",
    "        for row in csvreader:\n",
    "            rows.append(row)\n",
    "\n",
    "    # Create a Series for the header\n",
    "    header_names = ['angle_min', 'angle_max', 'angle_increment', 'time_increment', 'scan_time', 'range_min', 'range_max']\n",
    "    Header_info = pd.Series(header, header_names)\n",
    "    Header_info = Header_info.astype(float)\n",
    "\n",
    "    # Translation Dataframe\n",
    "    translation_names = ['trans_x', 'trans_y', 'trans_z', 'rot_x', 'rot_y', 'rot_z', 'rot_w']\n",
    "    Translation_info = pd.DataFrame(np.array(rows[1::3]).T, translation_names)\n",
    "    Translation_info = Translation_info.astype(float)\n",
    "\n",
    "    # Lidar Dataframe\n",
    "    # X values is the scan number, Y values are the scan pos\n",
    "    Lidar_info = pd.DataFrame(np.array(rows[2::3]).T)\n",
    "    Lidar_info.insert(0, \"radians\", np.array(list(np.multiply(float(Header_info['angle_increment']), np.arange(1, 1081))))) #insert the radians per scan\n",
    "    Lidar_info = Lidar_info.astype(float)\n",
    "\n",
    "    return Header_info, Translation_info, Lidar_info"
   ]
  },
  {
   "cell_type": "code",
   "execution_count": 3,
   "metadata": {},
   "outputs": [],
   "source": [
    "# path to csv data\n",
    "data_path = 'Hallway_Lidar_data_dinosars2.csv'\n",
    "Header_info, Translation_info, Lidar_info = CSV_Read_Lidar_data(data_path)\n",
    "\n",
    "# Parameters for the robot \n",
    "# TODO this will be pulled from ros later\n",
    "velocity_trix = np.array([[0.0], # x y z 1\n",
    "                         [0.75],\n",
    "                         [0.0],\n",
    "                         [1.0]])\n",
    "\n",
    "b = .235 # distance between robots wheels (meters)\n",
    "wheel_radius = 0.072 # radius of the actual wheel (meters)"
   ]
  },
  {
   "cell_type": "markdown",
   "metadata": {},
   "source": [
    "Robot Position Prediction"
   ]
  },
  {
   "cell_type": "code",
   "execution_count": 4,
   "metadata": {},
   "outputs": [],
   "source": [
    "\"\"\"\n",
    "These are the uncertainties in the are error constants representing the \n",
    "nondeterministic parameters of the motor drive and the wheel-floor interaction. Probably can be found in DOC or just tune for it\n",
    "\"\"\"\n",
    "k_r =  .001\n",
    "k_l =  .001\n",
    "\n",
    "# State model Noise covariance matrix w/ assumtion that the variables are independent of each other\n",
    "Q_t  = np.array([[1.0,  0,   0],\n",
    "                [  0, 1.0,   0],\n",
    "                [  0,   0, 1.0]])\n",
    "F_k_minus_1 = np.array([[1.0,  0,   0],\n",
    "                        [  0,1.0,   0],\n",
    "                        [  0,  0, 1.0]])\n",
    "                        "
   ]
  },
  {
   "cell_type": "code",
   "execution_count": 5,
   "metadata": {},
   "outputs": [
    {
     "name": "stderr",
     "output_type": "stream",
     "text": [
      "<>:18: SyntaxWarning: list indices must be integers or slices, not tuple; perhaps you missed a comma?\n",
      "<>:18: SyntaxWarning: list indices must be integers or slices, not tuple; perhaps you missed a comma?\n",
      "/tmp/ipykernel_309371/2380657657.py:18: SyntaxWarning: list indices must be integers or slices, not tuple; perhaps you missed a comma?\n",
      "  P_t_minus1 = np.array([k_r*abs(delta_sr), 0]\n"
     ]
    }
   ],
   "source": [
    "def position_prediction(pos_t_minus1,delta_sl,delta_sr):\n",
    "\n",
    "    delta_sl\n",
    "    delta_sr\n",
    "    theta_t_minus1 = pos_t_minus1[2,1]\n",
    "    \n",
    "\n",
    "    F_k_minus_1\n",
    "\n",
    "    x_hat = np.empty((3,1))\n",
    "\n",
    "    # This is previous postion + estimate of future position\n",
    "    x_hat = pos_t_minus1 + np.array([(delta_sr+delta_sl)/2*math.cos(theta_t_minus1+(delta_sr-delta_sl)/2/b)],\n",
    "                                    [(delta_sr+delta_sl)/2*math.sin(theta_t_minus1+(delta_sr-delta_sl)/2/b)],\n",
    "                                    [(delta_sr-delta_sl)/b])\n",
    "    \n",
    "    # covarieance of the previouse robot state\n",
    "    P_t_minus1 = np.array([k_r*abs(delta_sr), 0]\n",
    "                           [0,k_l*abs(delta_sl) ])\n",
    "    \n",
    "    P_hat_t = F_k_minus_1 @ P_t_minus1 @ np.transpose(F_k_minus_1) + F_k_minus_1 @ Q_t @ np.transpose(F_k_minus_1)\n",
    "    return x_hat, P_hat_t"
   ]
  },
  {
   "cell_type": "code",
   "execution_count": 6,
   "metadata": {},
   "outputs": [],
   "source": [
    "\n",
    "\n",
    "def postion(previous_pos,inputs_xytheta,):\n",
    "\n",
    "    new_pos = np.empty((3,1))\n",
    "    new_pos[0] = inputs_xytheta[0]*.01+velocity_trix[0] + previous_pos[0] #.01 converts to meters\n",
    "    new_pos[1] = inputs_xytheta[1]*.01+velocity_trix[1] + previous_pos[1]\n",
    "    new_pos[2] = inputs_xytheta[2]+velocity_trix[2] + previous_pos[2]\n",
    "    return new_pos    "
   ]
  },
  {
   "cell_type": "code",
   "execution_count": 7,
   "metadata": {},
   "outputs": [
    {
     "name": "stdout",
     "output_type": "stream",
     "text": [
      "[[ 3.07659490e-01]\n",
      " [ 4.73303811e-01]\n",
      " [-3.49833425e-04]\n",
      " [ 1.00000000e+00]]\n"
     ]
    }
   ],
   "source": [
    "trans_x = Translation_info.loc['trans_x']\n",
    "trans_y = Translation_info.loc['trans_y']\n",
    "trans_z = Translation_info.loc['trans_z']\n",
    "\n",
    "scan = 1\n",
    "\n",
    "M = np.array([[1, 0, 0, trans_x[scan]*.01],\n",
    "             [0, 1, 0, trans_y[scan]*.01],\n",
    "             [0, 0, 1, trans_z[scan]*.01],\n",
    "             [0, 0, 0, 1]])\n",
    "\n",
    "translation_matrix = np.dot(M, velocity_trix)\n",
    "print(translation_matrix)"
   ]
  },
  {
   "cell_type": "code",
   "execution_count": null,
   "metadata": {},
   "outputs": [],
   "source": []
  }
 ],
 "metadata": {
  "kernelspec": {
   "display_name": "Python 3",
   "language": "python",
   "name": "python3"
  },
  "language_info": {
   "codemirror_mode": {
    "name": "ipython",
    "version": 3
   },
   "file_extension": ".py",
   "mimetype": "text/x-python",
   "name": "python",
   "nbconvert_exporter": "python",
   "pygments_lexer": "ipython3",
   "version": "3.10.12"
  }
 },
 "nbformat": 4,
 "nbformat_minor": 2
}
