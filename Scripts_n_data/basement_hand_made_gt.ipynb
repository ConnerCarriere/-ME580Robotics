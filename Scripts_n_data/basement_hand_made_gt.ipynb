{
 "cells": [
  {
   "cell_type": "code",
   "execution_count": 142,
   "metadata": {},
   "outputs": [],
   "source": [
    "# include libraries\n",
    "import numpy as np\n",
    "import math\n",
    "import csv\n",
    "import matplotlib.pyplot as plt\n",
    "import pandas as pd"
   ]
  },
  {
   "cell_type": "code",
   "execution_count": 143,
   "metadata": {},
   "outputs": [],
   "source": [
    "def GetPolar(X, Y):\n",
    "    # center the data\n",
    "    X = X - np.mean(X)\n",
    "    Y = Y - np.mean(Y)\n",
    "    # fit line through the first and last point (X and Y contains 2 points, start and end of the line)\n",
    "    k, n = np.polyfit(X, Y, 1)\n",
    "    alpha = math.atan(-1 / k)  # in radians\n",
    "    ro = n / (math.sin(alpha) - k * math.cos(alpha))\n",
    "    return ro, alpha"
   ]
  },
  {
   "cell_type": "code",
   "execution_count": 144,
   "metadata": {},
   "outputs": [],
   "source": [
    "# x, y\n",
    "coordscart = [[0, 0],\n",
    "          [0.6096, 0],\n",
    "          [0.6096, 0.381],\n",
    "          [0.9144, 0.381],\n",
    "          [0.9144, 0],\n",
    "          [1.7272, 0],\n",
    "          [1.7272, -0.4318],\n",
    "          [3.0734, -0.4318],\n",
    "          [4.445, -0.4318],\n",
    "          [4.6228, -0.4318],\n",
    "          [4.6228, 0],\n",
    "          [4.7371, 0],\n",
    "          [4.7371, 0.9144],\n",
    "          [4.6228, 0.9144],\n",
    "          [4.6228, 1.5748],\n",
    "          [4.2418, 1.5748],\n",
    "          [4.2418, 1.8796],\n",
    "          [4.6228, 1.8796],\n",
    "          [4.6228, 3.2512],\n",
    "          [6, 3.2512]] #first half to vending machines\n",
    "\n",
    "coords2cart = [[6, 5.461],\n",
    "          [4.6228, 5.461],\n",
    "          [4.191, 5.461],\n",
    "          [4.191, 6.3119],\n",
    "          [2.8829, 6.3119],\n",
    "          [2.8829, 6.1087],\n",
    "          [1.7272, 6.1087],\n",
    "          [1.7272, 2.9845],\n",
    "          [0, 2.9845]]\n",
    "\n",
    "coordscart = np.array(coordscart)\n",
    "coords2cart = np.array(coords2cart)"
   ]
  },
  {
   "cell_type": "code",
   "execution_count": 145,
   "metadata": {},
   "outputs": [],
   "source": [
    "# offset for robot start pos\n",
    "coordscart[:,1] = coordscart[:, 1] - 1.8034\n",
    "coords2cart[:,1] = coords2cart[:, 1] - 1.8034"
   ]
  },
  {
   "cell_type": "code",
   "execution_count": 146,
   "metadata": {},
   "outputs": [],
   "source": [
    "# plt.figure()\n",
    "# plt.scatter(0,0, c='red')\n",
    "# plt.plot(coordscart[:, 1], coordscart[:, 0], '-o', c='black')\n",
    "# plt.plot(coords2cart[:, 1], coords2cart[:, 0], '-o', c='black')\n",
    "# plt.show()"
   ]
  },
  {
   "cell_type": "code",
   "execution_count": 147,
   "metadata": {},
   "outputs": [],
   "source": [
    "linesxy = []\n",
    "for i in range(len(coordscart)-1):\n",
    "    linesxy.append([coordscart[i], coordscart[i+1]])\n",
    "\n",
    "for i in range(len(coords2cart)-1):\n",
    "    linesxy.append([coords2cart[i], coords2cart[i+1]])\n",
    "\n",
    "linesxy = np.array(linesxy)"
   ]
  },
  {
   "cell_type": "code",
   "execution_count": 148,
   "metadata": {},
   "outputs": [
    {
     "data": {
      "image/png": "[encoded data removed]",
      "text/plain": [
       "<Figure size 640x480 with 1 Axes>"
      ]
     },
     "metadata": {},
     "output_type": "display_data"
    }
   ],
   "source": [
    "plt.figure()\n",
    "plt.scatter(0,0, c='red')\n",
    "for i in range(len(linesxy)):\n",
    "    plt.plot(linesxy[i][:, 1], linesxy[i][:, 0], '-o')\n",
    "plt.show()"
   ]
  },
  {
   "cell_type": "code",
   "execution_count": null,
   "metadata": {},
   "outputs": [],
   "source": []
  }
 ],
 "metadata": {
  "kernelspec": {
   "display_name": "Python 3",
   "language": "python",
   "name": "python3"
  },
  "language_info": {
   "codemirror_mode": {
    "name": "ipython",
    "version": 3
   },
   "file_extension": ".py",
   "mimetype": "text/x-python",
   "name": "python",
   "nbconvert_exporter": "python",
   "pygments_lexer": "ipython3",
   "version": "3.10.12"
  }
 },
 "nbformat": 4,
 "nbformat_minor": 2
}
